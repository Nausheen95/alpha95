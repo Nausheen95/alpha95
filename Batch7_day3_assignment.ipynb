{
  "nbformat": 4,
  "nbformat_minor": 0,
  "metadata": {
    "colab": {
      "name": "Batch7 day3 assignment.ipynb",
      "provenance": [],
      "authorship_tag": "ABX9TyOUykKVd6aCGV8rvQr5damz",
      "include_colab_link": true
    },
    "kernelspec": {
      "name": "python3",
      "display_name": "Python 3"
    }
  },
  "cells": [
    {
      "cell_type": "markdown",
      "metadata": {
        "id": "view-in-github",
        "colab_type": "text"
      },
      "source": [
        "<a href=\"https://colab.research.google.com/github/Nausheen95/alpha95/blob/master/Batch7_day3_assignment.ipynb\" target=\"_parent\"><img src=\"https://colab.research.google.com/assets/colab-badge.svg\" alt=\"Open In Colab\"/></a>"
      ]
    },
    {
      "cell_type": "markdown",
      "metadata": {
        "id": "CBqbPbIe7Mik",
        "colab_type": "text"
      },
      "source": [
        "Code by- NAUSHEEN FATIMA\n",
        "Batch 7\n",
        "Day3 -Assignment\n",
        "Python"
      ]
    },
    {
      "cell_type": "markdown",
      "metadata": {
        "id": "5jtct_En8Jj7",
        "colab_type": "text"
      },
      "source": [
        "Question 1"
      ]
    },
    {
      "cell_type": "code",
      "metadata": {
        "id": "5iw4naN07b8o",
        "colab_type": "code",
        "colab": {}
      },
      "source": [
        "# press 0 to stop\n",
        "for alti in range(1000,10000):\n",
        " \n",
        "        alti=int(input(\"Enter the Altitude:\"))\n",
        "        if alti==1000:\n",
        "            print(\"Safe to Land\")\n",
        "        elif alti>1000 and alti<5000:\n",
        "            print(\"Bring down to 1000\")\n",
        "        elif alti==0:\n",
        "            break    \n",
        "        else:\n",
        "            print(\"Turn Around\")\n",
        "\n",
        "\n",
        "    \n"
      ],
      "execution_count": null,
      "outputs": []
    },
    {
      "cell_type": "markdown",
      "metadata": {
        "id": "kb9gnRsF8SiV",
        "colab_type": "text"
      },
      "source": [
        "Question 2\n"
      ]
    },
    {
      "cell_type": "code",
      "metadata": {
        "id": "MVFrSVYeCU0o",
        "colab_type": "code",
        "colab": {}
      },
      "source": [
        "print(\"Prime numbers from 1-200:\")\n",
        "for num in range(1,200):  \n",
        "   if num > 1:  \n",
        "       for i in range(2,num//2+1):  \n",
        "           if (num % i) == 0:  \n",
        "               break  \n",
        "       else:  \n",
        "           \n",
        "           print(num)  "
      ],
      "execution_count": null,
      "outputs": []
    }
  ]
}